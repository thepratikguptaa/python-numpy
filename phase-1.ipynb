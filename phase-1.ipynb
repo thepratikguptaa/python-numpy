{
 "cells": [
  {
   "cell_type": "code",
   "execution_count": 12,
   "id": "6bfc82e5",
   "metadata": {},
   "outputs": [
    {
     "name": "stdout",
     "output_type": "stream",
     "text": [
      "Hello User!\n"
     ]
    }
   ],
   "source": [
    "print(\"Hello User!\")\n"
   ]
  }
 ],
 "metadata": {
  "kernelspec": {
   "display_name": "python-numpy",
   "language": "python",
   "name": "python3"
  },
  "language_info": {
   "codemirror_mode": {
    "name": "ipython",
    "version": 3
   },
   "file_extension": ".py",
   "mimetype": "text/x-python",
   "name": "python",
   "nbconvert_exporter": "python",
   "pygments_lexer": "ipython3",
   "version": "3.13.3"
  }
 },
 "nbformat": 4,
 "nbformat_minor": 5
}
