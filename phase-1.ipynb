{
 "cells": [
  {
   "cell_type": "markdown",
   "id": "79eca8dc",
   "metadata": {},
   "source": [
    "## Numpy array and basics"
   ]
  },
  {
   "cell_type": "code",
   "execution_count": 22,
   "id": "dcf97ed0",
   "metadata": {},
   "outputs": [],
   "source": [
    "import numpy as np\n",
    "import time\n"
   ]
  },
  {
   "cell_type": "markdown",
   "id": "0cbc0153",
   "metadata": {},
   "source": [
    "### Creating array from list"
   ]
  },
  {
   "cell_type": "code",
   "execution_count": 16,
   "id": "d5a88b47",
   "metadata": {},
   "outputs": [
    {
     "name": "stdout",
     "output_type": "stream",
     "text": [
      "1D array:\n",
      " [1 2 3 4 5]\n",
      "2D array:\n",
      " [[1 2 3]\n",
      " [4 5 6]]\n"
     ]
    }
   ],
   "source": [
    "arr_1d = np.array([1, 2, 3, 4, 5])\n",
    "print(\"1D array:\\n\", arr_1d)\n",
    "\n",
    "arr_2d = np.array([[1, 2, 3], [4, 5, 6]])\n",
    "print(\"2D array:\\n\", arr_2d)\n"
   ]
  },
  {
   "cell_type": "markdown",
   "id": "71766827",
   "metadata": {},
   "source": [
    "### List vs Numpy array"
   ]
  },
  {
   "cell_type": "code",
   "execution_count": 25,
   "id": "0fbda286",
   "metadata": {},
   "outputs": [
    {
     "name": "stdout",
     "output_type": "stream",
     "text": [
      "Python list multiplication:  [1, 2, 3, 1, 2, 3]\n",
      "Python array multiplication:  [2 4 6]\n",
      "\n",
      " List operation time:  0.21286797523498535\n",
      "\n",
      " Numpy operation time:  0.011669397354125977\n"
     ]
    }
   ],
   "source": [
    "py_list = [1, 2, 3]\n",
    "print(\"Python list multiplication: \", py_list * 2)\n",
    "\n",
    "np_array = np.array([1, 2, 3])\n",
    "print(\"Python array multiplication: \", np_array * 2)\n",
    "\n",
    "start = time.time()\n",
    "py_list = [i*2 for i in range(1000000)]\n",
    "print(\"\\n List operation time: \", time.time() - start)\n",
    "\n",
    "start = time.time()\n",
    "np_array = np.arange(1000000) * 2\n",
    "print(\"\\n Numpy operation time: \", time.time() - start)\n"
   ]
  },
  {
   "cell_type": "markdown",
   "id": "b08f7eab",
   "metadata": {},
   "source": [
    "### Creating array from scratch"
   ]
  },
  {
   "cell_type": "code",
   "execution_count": 30,
   "id": "29fb46d7",
   "metadata": {},
   "outputs": [
    {
     "name": "stdout",
     "output_type": "stream",
     "text": [
      "\n",
      " Zeros array:\n",
      " [[0. 0. 0. 0.]\n",
      " [0. 0. 0. 0.]\n",
      " [0. 0. 0. 0.]]\n",
      "\n",
      " Ones array:\n",
      " [[1. 1. 1. 1.]\n",
      " [1. 1. 1. 1.]\n",
      " [1. 1. 1. 1.]]\n",
      "\n",
      " Full array:\n",
      " [[5 5 5 5]\n",
      " [5 5 5 5]\n",
      " [5 5 5 5]]\n",
      "\n",
      " Arange array:\n",
      " [1 3 5 7 9]\n",
      "\n",
      " Random array:\n",
      " [[0.42974104 0.7962005  0.43002931]\n",
      " [0.66921618 0.91741733 0.55060257]]\n"
     ]
    }
   ],
   "source": [
    "zeros = np.zeros((3, 4))\n",
    "print(\"\\n Zeros array:\\n\", zeros)\n",
    "\n",
    "ones = np.ones((3, 4))\n",
    "print(\"\\n Ones array:\\n\", ones)\n",
    "\n",
    "full = np.full((3, 4), 5)\n",
    "print(\"\\n Full array:\\n\", full)\n",
    "\n",
    "arange = np.arange(1, 10, 2)\n",
    "print(\"\\n Arange array:\\n\", arange)\n",
    "\n",
    "random = np.random.random((2, 3))\n",
    "print(\"\\n Random array:\\n\", random)\n"
   ]
  },
  {
   "cell_type": "markdown",
   "id": "4e60873d",
   "metadata": {},
   "source": [
    "### Vector, Matrix, Tensor"
   ]
  },
  {
   "cell_type": "code",
   "execution_count": 32,
   "id": "ed9e3265",
   "metadata": {},
   "outputs": [
    {
     "name": "stdout",
     "output_type": "stream",
     "text": [
      "\n",
      " Vector:\n",
      " [1 2 3]\n",
      "\n",
      " Matrix:\n",
      " [[1 2 3]\n",
      " [4 5 6]]\n",
      "\n",
      " Tensor:\n",
      " [[[1 2]\n",
      "  [3 4]]\n",
      "\n",
      " [[5 6]\n",
      "  [7 8]]]\n"
     ]
    }
   ],
   "source": [
    "vector = np.array([1, 2, 3])\n",
    "print(\"\\n Vector:\\n\", vector)\n",
    "\n",
    "matrix = np.array([[1, 2, 3], \n",
    "                   [4, 5, 6]])\n",
    "print(\"\\n Matrix:\\n\", matrix)\n",
    "\n",
    "tensor = np.array([[[1, 2], [3, 4]], \n",
    "                   [[5, 6], [7, 8]]])\n",
    "print(\"\\n Tensor:\\n\", tensor)\n"
   ]
  }
 ],
 "metadata": {
  "kernelspec": {
   "display_name": "python-numpy",
   "language": "python",
   "name": "python3"
  },
  "language_info": {
   "codemirror_mode": {
    "name": "ipython",
    "version": 3
   },
   "file_extension": ".py",
   "mimetype": "text/x-python",
   "name": "python",
   "nbconvert_exporter": "python",
   "pygments_lexer": "ipython3",
   "version": "3.13.3"
  }
 },
 "nbformat": 4,
 "nbformat_minor": 5
}
