{
 "cells": [
  {
   "cell_type": "markdown",
   "id": "904f7585",
   "metadata": {},
   "source": [
    "## Numpy Array Operations"
   ]
  },
  {
   "cell_type": "code",
   "execution_count": 40,
   "id": "87a02602",
   "metadata": {},
   "outputs": [],
   "source": [
    "import numpy as np"
   ]
  },
  {
   "cell_type": "code",
   "execution_count": 41,
   "id": "28d612ae",
   "metadata": {},
   "outputs": [
    {
     "name": "stdout",
     "output_type": "stream",
     "text": [
      "Basic Slicing: [3 4 5 6 7 8]\n",
      "With Step: [2 4 6 8]\n",
      "Negative Indexing: [ 8  9 10]\n"
     ]
    }
   ],
   "source": [
    "arr = np.array([1, 2, 3, 4, 5, 6, 7, 8, 9, 10])\n",
    "print(\"Basic Slicing:\", arr[2:8])\n",
    "print(\"With Step:\", arr[1:8:2])\n",
    "print(\"Negative Indexing:\", arr[-3:])"
   ]
  },
  {
   "cell_type": "code",
   "execution_count": 42,
   "id": "68223a6f",
   "metadata": {},
   "outputs": [
    {
     "name": "stdout",
     "output_type": "stream",
     "text": [
      "Specific Element: 6\n",
      "Entire Row: [4 5 6]\n",
      "Entire Column: [2 5 8]\n"
     ]
    }
   ],
   "source": [
    "arr = np.array([[1, 2, 3], \n",
    "                [4, 5, 6],\n",
    "                [7, 8, 9]])\n",
    "print(\"Specific Element:\", arr[1, 2]) # first row then column\n",
    "print(\"Entire Row:\", arr[1, :])\n",
    "print(\"Entire Column:\", arr[:, 1])\n"
   ]
  },
  {
   "cell_type": "markdown",
   "id": "71e856a0",
   "metadata": {},
   "source": [
    "## Sorting"
   ]
  },
  {
   "cell_type": "code",
   "execution_count": 43,
   "id": "f7b245cc",
   "metadata": {},
   "outputs": [
    {
     "name": "stdout",
     "output_type": "stream",
     "text": [
      "Unsorted: [2 1 5 3 4 7 6]\n",
      "Sorted: [1 2 3 4 5 6 7]\n",
      "Unsorted 2D: [[2 1]\n",
      " [5 3]\n",
      " [2 3]\n",
      " [4 7]\n",
      " [6 5]]\n",
      "Sorted 2D by Column: [[2 1]\n",
      " [2 3]\n",
      " [4 3]\n",
      " [5 5]\n",
      " [6 7]]\n",
      "Sorted 2D by Row: [[1 2]\n",
      " [3 5]\n",
      " [2 3]\n",
      " [4 7]\n",
      " [5 6]]\n"
     ]
    }
   ],
   "source": [
    "unsorted = np.array([2, 1, 5, 3, 4, 7, 6])\n",
    "print(\"Unsorted:\", unsorted)\n",
    "print(\"Sorted:\", np.sort(unsorted))\n",
    "\n",
    "arr_2d_unsorted = np.array([[2, 1], [5, 3], [2, 3], [4, 7], [6, 5]])\n",
    "print(\"Unsorted 2D:\", arr_2d_unsorted)\n",
    "print(\"Sorted 2D by Column:\", np.sort(arr_2d_unsorted, axis=0))\n",
    "print(\"Sorted 2D by Row:\", np.sort(arr_2d_unsorted, axis=1))\n"
   ]
  },
  {
   "cell_type": "markdown",
   "id": "e25f47c9",
   "metadata": {},
   "source": [
    "## Filter"
   ]
  },
  {
   "cell_type": "code",
   "execution_count": 44,
   "id": "82b86ca1",
   "metadata": {},
   "outputs": [
    {
     "name": "stdout",
     "output_type": "stream",
     "text": [
      "Even numberss: [ 2  4  6  8 10]\n",
      "Even numberss 2D: [ 2  4  6  8 10]\n"
     ]
    }
   ],
   "source": [
    "numbers = np.array([1, 2, 3, 4, 5, 6, 7, 8, 9, 10])\n",
    "even_numbers = numbers[numbers % 2 == 0]\n",
    "print(\"Even numberss:\", even_numbers)\n",
    "\n",
    "arr_2d = np.array([[1, 2], [3, 4], [5, 6], [7, 8], [9, 10]])\n",
    "even_numbers_2d = arr_2d[arr_2d % 2 == 0]\n",
    "print(\"Even numberss 2D:\", even_numbers_2d)"
   ]
  },
  {
   "cell_type": "markdown",
   "id": "14a1d102",
   "metadata": {},
   "source": [
    "## Filter with mask"
   ]
  },
  {
   "cell_type": "code",
   "execution_count": 45,
   "id": "75816f57",
   "metadata": {},
   "outputs": [
    {
     "name": "stdout",
     "output_type": "stream",
     "text": [
      "Mask: [False False False False False  True  True  True  True  True]\n",
      "Filtered numberss: [ 6  7  8  9 10]\n"
     ]
    }
   ],
   "source": [
    "mask = numbers > 5\n",
    "print(\"Mask:\", mask)\n",
    "print(\"Filtered numberss:\", numbers[mask])\n"
   ]
  },
  {
   "cell_type": "markdown",
   "id": "6c81d1ce",
   "metadata": {},
   "source": [
    "## Fancy Indexing vs np.where()"
   ]
  },
  {
   "cell_type": "code",
   "execution_count": 46,
   "id": "80be296a",
   "metadata": {},
   "outputs": [
    {
     "name": "stdout",
     "output_type": "stream",
     "text": [
      "[1 3 5 7 9]\n",
      "(array([0, 1, 2, 3]),)\n",
      "[1 2 3 4]\n"
     ]
    }
   ],
   "source": [
    "indices = [0, 2, 4, 6, 8]\n",
    "print(numbers[indices])\n",
    "\n",
    "where_result = np.where(numbers < 5)\n",
    "print(where_result)\n",
    "print(numbers[where_result])"
   ]
  },
  {
   "cell_type": "code",
   "execution_count": 47,
   "id": "b2628bfb",
   "metadata": {},
   "outputs": [
    {
     "name": "stdout",
     "output_type": "stream",
     "text": [
      "[ 1  2  3  4  5 12 14 16 18 20]\n"
     ]
    }
   ],
   "source": [
    "condition_array = np.where(numbers > 5, numbers*2, numbers)\n",
    "print(condition_array)\n",
    "# --- Working ---\n",
    "# if(numbers > 5):\n",
    "#     numbers*2\n",
    "# else:\n",
    "#     numbers\n",
    "# ---------------"
   ]
  },
  {
   "cell_type": "markdown",
   "id": "0290eaca",
   "metadata": {},
   "source": [
    "## Adding and Removing Data"
   ]
  },
  {
   "cell_type": "code",
   "execution_count": 48,
   "id": "4c467693",
   "metadata": {},
   "outputs": [
    {
     "name": "stdout",
     "output_type": "stream",
     "text": [
      "Combined: [1 2 3 4 5 6]\n"
     ]
    }
   ],
   "source": [
    "arr1 = np.array([1, 2, 3])\n",
    "arr2 = np.array([4, 5, 6])\n",
    "\n",
    "combined = np.concatenate((arr1, arr2))\n",
    "print(\"Combined:\", combined)"
   ]
  },
  {
   "cell_type": "markdown",
   "id": "03c6db06",
   "metadata": {},
   "source": [
    "## Array Compatibility"
   ]
  },
  {
   "cell_type": "code",
   "execution_count": 49,
   "id": "528d6d36",
   "metadata": {},
   "outputs": [
    {
     "name": "stdout",
     "output_type": "stream",
     "text": [
      "Compatibility shapes a and b: True\n",
      "Compatibility shapes b and c: False\n"
     ]
    }
   ],
   "source": [
    "a = np.array([1, 2, 3])\n",
    "b = np.array([4, 5, 6])\n",
    "c = np.array([7, 8, 9, 10])\n",
    "\n",
    "print(\"Compatibility shapes a and b:\", a.shape == b.shape)\n",
    "print(\"Compatibility shapes b and c:\", b.shape == c.shape)\n"
   ]
  },
  {
   "cell_type": "code",
   "execution_count": 50,
   "id": "41a1046e",
   "metadata": {},
   "outputs": [
    {
     "name": "stdout",
     "output_type": "stream",
     "text": [
      "Original array: [[1 2 3]\n",
      " [4 5 6]]\n",
      "Array with new row: [[1 2 3]\n",
      " [4 5 6]\n",
      " [7 8 9]]\n",
      "Array with new column: [[ 1  2  3 10]\n",
      " [ 4  5  6 11]]\n"
     ]
    }
   ],
   "source": [
    "original = np.array([[1, 2, 3], \n",
    "                    [4, 5, 6]])\n",
    "print(\"Original array:\", original)\n",
    "new_row = np.array([7, 8, 9])\n",
    "\n",
    "with_new_row = np.vstack((original, new_row))\n",
    "print(\"Array with new row:\", with_new_row)\n",
    "\n",
    "new_column = np.array([[10], [11]])\n",
    "with_new_column = np.hstack((original, new_column))\n",
    "print(\"Array with new column:\", with_new_column)\n"
   ]
  },
  {
   "cell_type": "code",
   "execution_count": 51,
   "id": "b2800642",
   "metadata": {},
   "outputs": [
    {
     "name": "stdout",
     "output_type": "stream",
     "text": [
      "Original array: [1 2 3 4 5 6 7 8 9]\n",
      "Original array after deletion: [1 2 3 4 5 6 7 8 9]\n",
      "'deleted' variable stores: [1 2 4 5 6 7 8 9]\n"
     ]
    }
   ],
   "source": [
    "arr = np.array([1, 2, 3, 4, 5, 6, 7, 8, 9])\n",
    "print(\"Original array:\", arr)\n",
    "\n",
    "deleted = np.delete(arr, 2)\n",
    "print(\"Original array after deletion:\", arr)\n",
    "print(\"'deleted' variable stores:\", deleted) # same\n"
   ]
  }
 ],
 "metadata": {
  "kernelspec": {
   "display_name": "python-numpy",
   "language": "python",
   "name": "python3"
  },
  "language_info": {
   "codemirror_mode": {
    "name": "ipython",
    "version": 3
   },
   "file_extension": ".py",
   "mimetype": "text/x-python",
   "name": "python",
   "nbconvert_exporter": "python",
   "pygments_lexer": "ipython3",
   "version": "3.13.3"
  }
 },
 "nbformat": 4,
 "nbformat_minor": 5
}
