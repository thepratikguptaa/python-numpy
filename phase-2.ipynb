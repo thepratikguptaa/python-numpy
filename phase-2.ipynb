{
 "cells": [
  {
   "cell_type": "markdown",
   "id": "904f7585",
   "metadata": {},
   "source": [
    "## Numpy Array Operations"
   ]
  },
  {
   "cell_type": "code",
   "execution_count": 78,
   "id": "87a02602",
   "metadata": {},
   "outputs": [],
   "source": [
    "import numpy as np"
   ]
  },
  {
   "cell_type": "code",
   "execution_count": 79,
   "id": "28d612ae",
   "metadata": {},
   "outputs": [
    {
     "name": "stdout",
     "output_type": "stream",
     "text": [
      "Basic Slicing: [3 4 5 6 7 8]\n",
      "With Step: [2 4 6 8]\n",
      "Negative Indexing: [ 8  9 10]\n"
     ]
    }
   ],
   "source": [
    "arr = np.array([1, 2, 3, 4, 5, 6, 7, 8, 9, 10])\n",
    "print(\"Basic Slicing:\", arr[2:8])\n",
    "print(\"With Step:\", arr[1:8:2])\n",
    "print(\"Negative Indexing:\", arr[-3:])"
   ]
  },
  {
   "cell_type": "code",
   "execution_count": 80,
   "id": "68223a6f",
   "metadata": {},
   "outputs": [
    {
     "name": "stdout",
     "output_type": "stream",
     "text": [
      "Specific Element: 6\n",
      "Entire Row: [4 5 6]\n",
      "Entire Column: [2 5 8]\n"
     ]
    }
   ],
   "source": [
    "arr = np.array([[1, 2, 3], \n",
    "                [4, 5, 6],\n",
    "                [7, 8, 9]])\n",
    "print(\"Specific Element:\", arr[1, 2]) # first row then column\n",
    "print(\"Entire Row:\", arr[1, :])\n",
    "print(\"Entire Column:\", arr[:, 1])\n"
   ]
  },
  {
   "cell_type": "markdown",
   "id": "71e856a0",
   "metadata": {},
   "source": [
    "## Sorting"
   ]
  },
  {
   "cell_type": "code",
   "execution_count": 81,
   "id": "f7b245cc",
   "metadata": {},
   "outputs": [
    {
     "name": "stdout",
     "output_type": "stream",
     "text": [
      "Unsorted: [2 1 5 3 4 7 6]\n",
      "Sorted: [1 2 3 4 5 6 7]\n",
      "Unsorted 2D: [[2 1]\n",
      " [5 3]\n",
      " [2 3]\n",
      " [4 7]\n",
      " [6 5]]\n",
      "Sorted 2D by Column: [[2 1]\n",
      " [2 3]\n",
      " [4 3]\n",
      " [5 5]\n",
      " [6 7]]\n",
      "Sorted 2D by Row: [[1 2]\n",
      " [3 5]\n",
      " [2 3]\n",
      " [4 7]\n",
      " [5 6]]\n"
     ]
    }
   ],
   "source": [
    "unsorted = np.array([2, 1, 5, 3, 4, 7, 6])\n",
    "print(\"Unsorted:\", unsorted)\n",
    "print(\"Sorted:\", np.sort(unsorted))\n",
    "\n",
    "arr_2d_unsorted = np.array([[2, 1], [5, 3], [2, 3], [4, 7], [6, 5]])\n",
    "print(\"Unsorted 2D:\", arr_2d_unsorted)\n",
    "print(\"Sorted 2D by Column:\", np.sort(arr_2d_unsorted, axis=0))\n",
    "print(\"Sorted 2D by Row:\", np.sort(arr_2d_unsorted, axis=1))\n"
   ]
  },
  {
   "cell_type": "markdown",
   "id": "e25f47c9",
   "metadata": {},
   "source": [
    "## Filter"
   ]
  },
  {
   "cell_type": "code",
   "execution_count": 82,
   "id": "82b86ca1",
   "metadata": {},
   "outputs": [
    {
     "name": "stdout",
     "output_type": "stream",
     "text": [
      "Even numberss: [ 2  4  6  8 10]\n",
      "Even numberss 2D: [ 2  4  6  8 10]\n"
     ]
    }
   ],
   "source": [
    "numbers = np.array([1, 2, 3, 4, 5, 6, 7, 8, 9, 10])\n",
    "even_numbers = numbers[numbers % 2 == 0]\n",
    "print(\"Even numberss:\", even_numbers)\n",
    "\n",
    "arr_2d = np.array([[1, 2], [3, 4], [5, 6], [7, 8], [9, 10]])\n",
    "even_numbers_2d = arr_2d[arr_2d % 2 == 0]\n",
    "print(\"Even numberss 2D:\", even_numbers_2d)"
   ]
  },
  {
   "cell_type": "markdown",
   "id": "14a1d102",
   "metadata": {},
   "source": [
    "## Filter with mask"
   ]
  },
  {
   "cell_type": "code",
   "execution_count": 83,
   "id": "75816f57",
   "metadata": {},
   "outputs": [
    {
     "name": "stdout",
     "output_type": "stream",
     "text": [
      "Mask: [False False False False False  True  True  True  True  True]\n",
      "Filtered numberss: [ 6  7  8  9 10]\n"
     ]
    }
   ],
   "source": [
    "mask = numbers > 5\n",
    "print(\"Mask:\", mask)\n",
    "print(\"Filtered numberss:\", numbers[mask])\n"
   ]
  },
  {
   "cell_type": "markdown",
   "id": "6c81d1ce",
   "metadata": {},
   "source": [
    "## Fancy Indexing vs np.where()"
   ]
  },
  {
   "cell_type": "code",
   "execution_count": 84,
   "id": "80be296a",
   "metadata": {},
   "outputs": [
    {
     "name": "stdout",
     "output_type": "stream",
     "text": [
      "[1 3 5 7 9]\n",
      "(array([0, 1, 2, 3]),)\n",
      "[1 2 3 4]\n"
     ]
    }
   ],
   "source": [
    "indices = [0, 2, 4, 6, 8]\n",
    "print(numbers[indices])\n",
    "\n",
    "where_result = np.where(numbers < 5)\n",
    "print(where_result)\n",
    "print(numbers[where_result])"
   ]
  },
  {
   "cell_type": "code",
   "execution_count": 85,
   "id": "b2628bfb",
   "metadata": {},
   "outputs": [
    {
     "name": "stdout",
     "output_type": "stream",
     "text": [
      "[ 1  2  3  4  5 12 14 16 18 20]\n"
     ]
    }
   ],
   "source": [
    "condition_array = np.where(numbers > 5, numbers*2, numbers)\n",
    "print(condition_array)\n",
    "# --- Working ---\n",
    "# if(numbers > 5):\n",
    "#     numbers*2\n",
    "# else:\n",
    "#     numbers\n",
    "# ---------------"
   ]
  }
 ],
 "metadata": {
  "kernelspec": {
   "display_name": "python-numpy",
   "language": "python",
   "name": "python3"
  },
  "language_info": {
   "codemirror_mode": {
    "name": "ipython",
    "version": 3
   },
   "file_extension": ".py",
   "mimetype": "text/x-python",
   "name": "python",
   "nbconvert_exporter": "python",
   "pygments_lexer": "ipython3",
   "version": "3.13.3"
  }
 },
 "nbformat": 4,
 "nbformat_minor": 5
}
